{
  "nbformat": 4,
  "nbformat_minor": 0,
  "metadata": {
    "colab": {
      "name": "churnpredictionfinalmanish.ipynb",
      "provenance": [],
      "collapsed_sections": [],
      "authorship_tag": "ABX9TyNdaRCYX4iJxeMdjpRaquZU",
      "include_colab_link": true
    },
    "kernelspec": {
      "name": "python3",
      "display_name": "Python 3"
    }
  },
  "cells": [
    {
      "cell_type": "markdown",
      "metadata": {
        "id": "view-in-github",
        "colab_type": "text"
      },
      "source": [
        "<a href=\"https://colab.research.google.com/github/bhudolbhardwaj/Machine-Learning/blob/master/churnpredictionfinalmanish.ipynb\" target=\"_parent\"><img src=\"https://colab.research.google.com/assets/colab-badge.svg\" alt=\"Open In Colab\"/></a>"
      ]
    },
    {
      "cell_type": "markdown",
      "metadata": {
        "id": "sANRtbNBvhGU",
        "colab_type": "text"
      },
      "source": [
        "**Data Extraction And Library Import**"
      ]
    },
    {
      "cell_type": "markdown",
      "metadata": {
        "id": "n05pzFPirSyq",
        "colab_type": "text"
      },
      "source": [
        "Basically we have to predict churn based on datas given out here .i.e.(0/1). We can clearly say that its a classification pblm"
      ]
    },
    {
      "cell_type": "code",
      "metadata": {
        "id": "8zXX6NPYCl-Y",
        "colab_type": "code",
        "colab": {}
      },
      "source": [
        "import numpy as np\n",
        "import pandas as pd\n",
        "import matplotlib.pyplot as plt"
      ],
      "execution_count": 0,
      "outputs": []
    },
    {
      "cell_type": "markdown",
      "metadata": {
        "id": "FiZC9uZSrEPe",
        "colab_type": "text"
      },
      "source": [
        "reading columns\n"
      ]
    },
    {
      "cell_type": "code",
      "metadata": {
        "id": "wgQI9mloCtnC",
        "colab_type": "code",
        "outputId": "2e2e25e9-0da3-4b65-d5fc-32869e9e079c",
        "colab": {
          "base_uri": "https://localhost:8080/",
          "height": 153
        }
      },
      "source": [
        "dataset=pd.read_csv('churn_prediction.csv')\n",
        "dataset.columns\n"
      ],
      "execution_count": 7,
      "outputs": [
        {
          "output_type": "execute_result",
          "data": {
            "text/plain": [
              "Index(['customer_id', 'vintage', 'age', 'gender', 'dependents', 'occupation',\n",
              "       'city', 'customer_nw_category', 'branch_code',\n",
              "       'days_since_last_transaction', 'current_balance',\n",
              "       'previous_month_end_balance', 'average_monthly_balance_prevQ',\n",
              "       'average_monthly_balance_prevQ2', 'current_month_credit',\n",
              "       'previous_month_credit', 'current_month_debit', 'previous_month_debit',\n",
              "       'current_month_balance', 'previous_month_balance', 'churn'],\n",
              "      dtype='object')"
            ]
          },
          "metadata": {
            "tags": []
          },
          "execution_count": 7
        }
      ]
    },
    {
      "cell_type": "markdown",
      "metadata": {
        "id": "-kEI8WC2rsUC",
        "colab_type": "text"
      },
      "source": [
        "last column is churn so we have to put it in y variable as dependent variable"
      ]
    },
    {
      "cell_type": "code",
      "metadata": {
        "id": "5Hjaz-7Vr1Vr",
        "colab_type": "code",
        "outputId": "faf22bd7-3df1-485c-b39f-f24799add4b4",
        "colab": {
          "base_uri": "https://localhost:8080/",
          "height": 34
        }
      },
      "source": [
        "x=dataset.iloc[:,1:-1].values\n",
        "y=dataset.iloc[:,-1].values\n",
        "y"
      ],
      "execution_count": 8,
      "outputs": [
        {
          "output_type": "execute_result",
          "data": {
            "text/plain": [
              "array([0, 0, 0, ..., 1, 0, 1])"
            ]
          },
          "metadata": {
            "tags": []
          },
          "execution_count": 8
        }
      ]
    },
    {
      "cell_type": "markdown",
      "metadata": {
        "id": "QM1BOLkouCUP",
        "colab_type": "text"
      },
      "source": [
        "we have now dependent variable in one variable now look for independents"
      ]
    },
    {
      "cell_type": "code",
      "metadata": {
        "id": "N0EuhGYbuPjE",
        "colab_type": "code",
        "outputId": "8b5fd4b8-1d6d-462b-9e20-bcd17d2671f0",
        "colab": {
          "base_uri": "https://localhost:8080/",
          "height": 136
        }
      },
      "source": [
        "x"
      ],
      "execution_count": 9,
      "outputs": [
        {
          "output_type": "execute_result",
          "data": {
            "text/plain": [
              "array([[3135, 66, 'Male', ..., 0.2, 1458.71, 1458.71],\n",
              "       [310, 35, 'Male', ..., 100.56, 6496.78, 8787.61],\n",
              "       [2356, 31, 'Male', ..., 259.23, 5006.28, 5070.14],\n",
              "       ...,\n",
              "       [297, 47, 'Male', ..., 71.8, 61078.5, 57564.24],\n",
              "       [2585, 50, 'Male', ..., 0.2, 1625.55, 1625.55],\n",
              "       [2349, 18, 'Male', ..., 1094.09, 2402.62, 3260.58]], dtype=object)"
            ]
          },
          "metadata": {
            "tags": []
          },
          "execution_count": 9
        }
      ]
    },
    {
      "cell_type": "markdown",
      "metadata": {
        "id": "T2id4Z4SuZGs",
        "colab_type": "text"
      },
      "source": [
        "we can clearly see that we have x, droping first and last column as we don't need customer id for prediction"
      ]
    },
    {
      "cell_type": "markdown",
      "metadata": {
        "id": "-XEU1wTRvus1",
        "colab_type": "text"
      },
      "source": [
        "**Data Exploration And Manipulation**"
      ]
    },
    {
      "cell_type": "markdown",
      "metadata": {
        "id": "Jah-W0C1v7L0",
        "colab_type": "text"
      },
      "source": [
        "missing values"
      ]
    },
    {
      "cell_type": "code",
      "metadata": {
        "id": "c6ahgZ8AwALF",
        "colab_type": "code",
        "colab": {}
      },
      "source": [
        "dataset.describe(include='all')"
      ],
      "execution_count": 0,
      "outputs": []
    },
    {
      "cell_type": "code",
      "metadata": {
        "id": "r4EDWSebxz2P",
        "colab_type": "code",
        "outputId": "6547314a-bde4-4d0e-f68b-e26f736b0c56",
        "colab": {
          "base_uri": "https://localhost:8080/",
          "height": 34
        }
      },
      "source": [
        "dataset.shape"
      ],
      "execution_count": 11,
      "outputs": [
        {
          "output_type": "execute_result",
          "data": {
            "text/plain": [
              "(28382, 21)"
            ]
          },
          "metadata": {
            "tags": []
          },
          "execution_count": 11
        }
      ]
    },
    {
      "cell_type": "markdown",
      "metadata": {
        "id": "fmD-JF4NyGjT",
        "colab_type": "text"
      },
      "source": [
        "By upper two command we can sure that target variable has no missing values , only few have missing values"
      ]
    },
    {
      "cell_type": "code",
      "metadata": {
        "id": "Xz-XzcgRyczM",
        "colab_type": "code",
        "outputId": "9441baf6-e392-4b71-d4ed-495c17b0d223",
        "colab": {
          "base_uri": "https://localhost:8080/",
          "height": 391
        }
      },
      "source": [
        "dataset.isnull().sum()"
      ],
      "execution_count": 12,
      "outputs": [
        {
          "output_type": "execute_result",
          "data": {
            "text/plain": [
              "customer_id                          0\n",
              "vintage                              0\n",
              "age                                  0\n",
              "gender                             525\n",
              "dependents                        2463\n",
              "occupation                          80\n",
              "city                               803\n",
              "customer_nw_category                 0\n",
              "branch_code                          0\n",
              "days_since_last_transaction       3223\n",
              "current_balance                      0\n",
              "previous_month_end_balance           0\n",
              "average_monthly_balance_prevQ        0\n",
              "average_monthly_balance_prevQ2       0\n",
              "current_month_credit                 0\n",
              "previous_month_credit                0\n",
              "current_month_debit                  0\n",
              "previous_month_debit                 0\n",
              "current_month_balance                0\n",
              "previous_month_balance               0\n",
              "churn                                0\n",
              "dtype: int64"
            ]
          },
          "metadata": {
            "tags": []
          },
          "execution_count": 12
        }
      ]
    },
    {
      "cell_type": "code",
      "metadata": {
        "id": "mjTJkzEq6EtW",
        "colab_type": "code",
        "outputId": "e32390ab-76a7-4b57-c99f-7c0471f3c67b",
        "colab": {
          "base_uri": "https://localhost:8080/",
          "height": 68
        }
      },
      "source": [
        "dataset[\"churn\"].value_counts()"
      ],
      "execution_count": 13,
      "outputs": [
        {
          "output_type": "execute_result",
          "data": {
            "text/plain": [
              "0    23122\n",
              "1     5260\n",
              "Name: churn, dtype: int64"
            ]
          },
          "metadata": {
            "tags": []
          },
          "execution_count": 13
        }
      ]
    },
    {
      "cell_type": "markdown",
      "metadata": {
        "id": "hBBKd_Kt6_kZ",
        "colab_type": "text"
      },
      "source": [
        "1.>gender since it is categorical variable better to repplace with mode value"
      ]
    },
    {
      "cell_type": "code",
      "metadata": {
        "id": "8-JDAd137LP3",
        "colab_type": "code",
        "outputId": "e66f6323-ee19-44f6-e114-51d762feb0c6",
        "colab": {
          "base_uri": "https://localhost:8080/",
          "height": 34
        }
      },
      "source": [
        "dataset[\"gender\"].fillna(value=(dataset['gender'].mode()[0]),inplace=True)\n",
        "dataset[\"gender\"].isnull().sum()"
      ],
      "execution_count": 14,
      "outputs": [
        {
          "output_type": "execute_result",
          "data": {
            "text/plain": [
              "0"
            ]
          },
          "metadata": {
            "tags": []
          },
          "execution_count": 14
        }
      ]
    },
    {
      "cell_type": "markdown",
      "metadata": {
        "id": "ZL1qfDdL-LGI",
        "colab_type": "text"
      },
      "source": [
        "2.> Dependents"
      ]
    },
    {
      "cell_type": "code",
      "metadata": {
        "id": "P_ZtTOWZ8l2K",
        "colab_type": "code",
        "colab": {
          "base_uri": "https://localhost:8080/",
          "height": 289
        },
        "outputId": "5dae738a-ed0d-46ea-c08d-b678cce29fc9"
      },
      "source": [
        "dataset[\"dependents\"].value_counts()\n"
      ],
      "execution_count": 26,
      "outputs": [
        {
          "output_type": "execute_result",
          "data": {
            "text/plain": [
              "0.0     21435\n",
              "2.0      2150\n",
              "1.0      1395\n",
              "3.0       701\n",
              "4.0       179\n",
              "5.0        41\n",
              "6.0         8\n",
              "7.0         3\n",
              "36.0        1\n",
              "52.0        1\n",
              "25.0        1\n",
              "9.0         1\n",
              "50.0        1\n",
              "32.0        1\n",
              "8.0         1\n",
              "Name: dependents, dtype: int64"
            ]
          },
          "metadata": {
            "tags": []
          },
          "execution_count": 26
        }
      ]
    },
    {
      "cell_type": "markdown",
      "metadata": {
        "id": "cWRpdeVs95pe",
        "colab_type": "text"
      },
      "source": [
        "one thing in my observation that if a person is male or above 50 then dependents is greater that 0 in many cases. "
      ]
    },
    {
      "cell_type": "code",
      "metadata": {
        "id": "3hdx0DL88gT-",
        "colab_type": "code",
        "colab": {}
      },
      "source": [
        "dataset[\"dependents\"].fillna(value=100,inplace=True)"
      ],
      "execution_count": 0,
      "outputs": []
    },
    {
      "cell_type": "code",
      "metadata": {
        "id": "LLRCqEbD4kdE",
        "colab_type": "code",
        "colab": {}
      },
      "source": [
        "for i in range(len(dataset)):\n",
        "  if dataset[\"dependents\"][i]==100:\n",
        "    if dataset[\"gender\"][i]==\"Male\" and dataset[\"age\"][i]>50:\n",
        "      dataset[\"dependents\"][i]=2\n",
        "    else:\n",
        "      dataset[\"dependents\"][i]=0"
      ],
      "execution_count": 0,
      "outputs": []
    },
    {
      "cell_type": "code",
      "metadata": {
        "id": "BGYGjK9SCGNi",
        "colab_type": "code",
        "outputId": "e7c7838e-0af7-4efb-8900-2d65da0e6f7e",
        "colab": {
          "base_uri": "https://localhost:8080/",
          "height": 289
        }
      },
      "source": [
        "\n",
        "dataset[\"dependents\"].value_counts()"
      ],
      "execution_count": 30,
      "outputs": [
        {
          "output_type": "execute_result",
          "data": {
            "text/plain": [
              "0.0     23272\n",
              "2.0      2776\n",
              "1.0      1395\n",
              "3.0       701\n",
              "4.0       179\n",
              "5.0        41\n",
              "6.0         8\n",
              "7.0         3\n",
              "36.0        1\n",
              "52.0        1\n",
              "25.0        1\n",
              "9.0         1\n",
              "50.0        1\n",
              "32.0        1\n",
              "8.0         1\n",
              "Name: dependents, dtype: int64"
            ]
          },
          "metadata": {
            "tags": []
          },
          "execution_count": 30
        }
      ]
    },
    {
      "cell_type": "code",
      "metadata": {
        "id": "4IhOJSnm9LNg",
        "colab_type": "code",
        "colab": {
          "base_uri": "https://localhost:8080/",
          "height": 34
        },
        "outputId": "da691ddc-6cc3-424b-8243-5dc020309ff4"
      },
      "source": [
        "dataset['dependents'].isnull().sum()"
      ],
      "execution_count": 31,
      "outputs": [
        {
          "output_type": "execute_result",
          "data": {
            "text/plain": [
              "0"
            ]
          },
          "metadata": {
            "tags": []
          },
          "execution_count": 31
        }
      ]
    },
    {
      "cell_type": "markdown",
      "metadata": {
        "id": "BnQimgYqD1BG",
        "colab_type": "text"
      },
      "source": [
        "3.> city and occupation"
      ]
    },
    {
      "cell_type": "code",
      "metadata": {
        "id": "cIUBwMwOD8nJ",
        "colab_type": "code",
        "outputId": "129a73bf-62a4-4d11-8827-d1406463cff7",
        "colab": {
          "base_uri": "https://localhost:8080/",
          "height": 391
        }
      },
      "source": [
        "dataset[\"occupation\"].fillna(value=(dataset['occupation'].mode()[0]),inplace=True)\n",
        "dataset[\"city\"].fillna(value=(dataset['city'].mode()[0]),inplace=True)\n",
        "dataset.isnull().sum()"
      ],
      "execution_count": 32,
      "outputs": [
        {
          "output_type": "execute_result",
          "data": {
            "text/plain": [
              "customer_id                          0\n",
              "vintage                              0\n",
              "age                                  0\n",
              "gender                               0\n",
              "dependents                           0\n",
              "occupation                           0\n",
              "city                                 0\n",
              "customer_nw_category                 0\n",
              "branch_code                          0\n",
              "days_since_last_transaction       3223\n",
              "current_balance                      0\n",
              "previous_month_end_balance           0\n",
              "average_monthly_balance_prevQ        0\n",
              "average_monthly_balance_prevQ2       0\n",
              "current_month_credit                 0\n",
              "previous_month_credit                0\n",
              "current_month_debit                  0\n",
              "previous_month_debit                 0\n",
              "current_month_balance                0\n",
              "previous_month_balance               0\n",
              "churn                                0\n",
              "dtype: int64"
            ]
          },
          "metadata": {
            "tags": []
          },
          "execution_count": 32
        }
      ]
    },
    {
      "cell_type": "markdown",
      "metadata": {
        "id": "5n__AxeMGVM-",
        "colab_type": "text"
      },
      "source": [
        "last thing left and that is days_since_last_transaction "
      ]
    },
    {
      "cell_type": "code",
      "metadata": {
        "id": "Z1-pKs_yHDY0",
        "colab_type": "code",
        "outputId": "aadc6748-5bae-49d6-aafa-6f296178dc33",
        "colab": {
          "base_uri": "https://localhost:8080/",
          "height": 221
        }
      },
      "source": [
        "dataset[\"days_since_last_transaction\"].value_counts(sort=True)"
      ],
      "execution_count": 33,
      "outputs": [
        {
          "output_type": "execute_result",
          "data": {
            "text/plain": [
              "0.0      1672\n",
              "3.0       831\n",
              "14.0      654\n",
              "4.0       632\n",
              "6.0       596\n",
              "         ... \n",
              "170.0       1\n",
              "218.0       1\n",
              "334.0       1\n",
              "288.0       1\n",
              "321.0       1\n",
              "Name: days_since_last_transaction, Length: 360, dtype: int64"
            ]
          },
          "metadata": {
            "tags": []
          },
          "execution_count": 33
        }
      ]
    },
    {
      "cell_type": "code",
      "metadata": {
        "id": "-FI5_d_aGh7q",
        "colab_type": "code",
        "outputId": "369fc533-f61e-4107-cc58-3c6351a36d7e",
        "colab": {
          "base_uri": "https://localhost:8080/",
          "height": 282
        }
      },
      "source": [
        "dataset[\"days_since_last_transaction\"].value_counts(sort=True).hist()"
      ],
      "execution_count": 34,
      "outputs": [
        {
          "output_type": "execute_result",
          "data": {
            "text/plain": [
              "<matplotlib.axes._subplots.AxesSubplot at 0x7f4b59dd0128>"
            ]
          },
          "metadata": {
            "tags": []
          },
          "execution_count": 34
        },
        {
          "output_type": "display_data",
          "data": {
            "image/png": "[encoded data removed]",
            "text/plain": [
              "<Figure size 432x288 with 1 Axes>"
            ]
          },
          "metadata": {
            "tags": [],
            "needs_background": "light"
          }
        }
      ]
    },
    {
      "cell_type": "markdown",
      "metadata": {
        "id": "TZxczuUQIIAm",
        "colab_type": "text"
      },
      "source": [
        "we can see that many data bw 0 to 150 have many option so we will take mean from 0 to 20 bcz many data lies there"
      ]
    },
    {
      "cell_type": "code",
      "metadata": {
        "id": "_GQO7nxMI6Xe",
        "colab_type": "code",
        "colab": {}
      },
      "source": [
        "dataset[\"days_since_last_transaction\"].fillna(value= np.mean([0,1,2,3,4,5,6,7,8,9,10]),inplace=True)"
      ],
      "execution_count": 0,
      "outputs": []
    },
    {
      "cell_type": "markdown",
      "metadata": {
        "id": "PP6p7WiHKFLb",
        "colab_type": "text"
      },
      "source": [
        "final look"
      ]
    },
    {
      "cell_type": "code",
      "metadata": {
        "id": "aFrDq7LVKJe0",
        "colab_type": "code",
        "outputId": "50dc8563-7b42-4e7e-a620-af128cac49df",
        "colab": {
          "base_uri": "https://localhost:8080/",
          "height": 391
        }
      },
      "source": [
        "dataset.isnull().sum()"
      ],
      "execution_count": 36,
      "outputs": [
        {
          "output_type": "execute_result",
          "data": {
            "text/plain": [
              "customer_id                       0\n",
              "vintage                           0\n",
              "age                               0\n",
              "gender                            0\n",
              "dependents                        0\n",
              "occupation                        0\n",
              "city                              0\n",
              "customer_nw_category              0\n",
              "branch_code                       0\n",
              "days_since_last_transaction       0\n",
              "current_balance                   0\n",
              "previous_month_end_balance        0\n",
              "average_monthly_balance_prevQ     0\n",
              "average_monthly_balance_prevQ2    0\n",
              "current_month_credit              0\n",
              "previous_month_credit             0\n",
              "current_month_debit               0\n",
              "previous_month_debit              0\n",
              "current_month_balance             0\n",
              "previous_month_balance            0\n",
              "churn                             0\n",
              "dtype: int64"
            ]
          },
          "metadata": {
            "tags": []
          },
          "execution_count": 36
        }
      ]
    },
    {
      "cell_type": "markdown",
      "metadata": {
        "id": "qhhbK0UEKPBc",
        "colab_type": "text"
      },
      "source": [
        "no missing values"
      ]
    },
    {
      "cell_type": "markdown",
      "metadata": {
        "id": "4F7EFaobKYkb",
        "colab_type": "text"
      },
      "source": [
        "**Data encoding**"
      ]
    },
    {
      "cell_type": "code",
      "metadata": {
        "id": "P4I-HuQ6Kiyl",
        "colab_type": "code",
        "outputId": "e849b6c7-5c35-41a8-808c-cc70115f9cfb",
        "colab": {
          "base_uri": "https://localhost:8080/",
          "height": 391
        }
      },
      "source": [
        "dataset.dtypes"
      ],
      "execution_count": 37,
      "outputs": [
        {
          "output_type": "execute_result",
          "data": {
            "text/plain": [
              "customer_id                         int64\n",
              "vintage                             int64\n",
              "age                                 int64\n",
              "gender                             object\n",
              "dependents                        float64\n",
              "occupation                         object\n",
              "city                              float64\n",
              "customer_nw_category                int64\n",
              "branch_code                         int64\n",
              "days_since_last_transaction       float64\n",
              "current_balance                   float64\n",
              "previous_month_end_balance        float64\n",
              "average_monthly_balance_prevQ     float64\n",
              "average_monthly_balance_prevQ2    float64\n",
              "current_month_credit              float64\n",
              "previous_month_credit             float64\n",
              "current_month_debit               float64\n",
              "previous_month_debit              float64\n",
              "current_month_balance             float64\n",
              "previous_month_balance            float64\n",
              "churn                               int64\n",
              "dtype: object"
            ]
          },
          "metadata": {
            "tags": []
          },
          "execution_count": 37
        }
      ]
    },
    {
      "cell_type": "markdown",
      "metadata": {
        "id": "6f9rejmxMLvU",
        "colab_type": "text"
      },
      "source": [
        "one hot encoding on gender since there is no order"
      ]
    },
    {
      "cell_type": "code",
      "metadata": {
        "id": "mgL3SM64Lcsd",
        "colab_type": "code",
        "colab": {}
      },
      "source": [
        "dataset['gender']=pd.get_dummies(dataset['gender'])"
      ],
      "execution_count": 0,
      "outputs": []
    },
    {
      "cell_type": "markdown",
      "metadata": {
        "id": "wyn3j8p1MaLs",
        "colab_type": "text"
      },
      "source": [
        "but in case of occupation we might say there is an order"
      ]
    },
    {
      "cell_type": "code",
      "metadata": {
        "id": "7j-Ve0kJM5r0",
        "colab_type": "code",
        "outputId": "03561ac4-40ef-493c-e74b-81bac7218227",
        "colab": {
          "base_uri": "https://localhost:8080/",
          "height": 119
        }
      },
      "source": [
        "dataset['occupation'].value_counts()"
      ],
      "execution_count": 39,
      "outputs": [
        {
          "output_type": "execute_result",
          "data": {
            "text/plain": [
              "self_employed    17556\n",
              "salaried          6704\n",
              "student           2058\n",
              "retired           2024\n",
              "company             40\n",
              "Name: occupation, dtype: int64"
            ]
          },
          "metadata": {
            "tags": []
          },
          "execution_count": 39
        }
      ]
    },
    {
      "cell_type": "code",
      "metadata": {
        "id": "CHr_qTiDMiEs",
        "colab_type": "code",
        "outputId": "b942ea6d-794b-47b0-c407-1df1da85fbf5",
        "colab": {
          "base_uri": "https://localhost:8080/",
          "height": 34
        }
      },
      "source": [
        "from sklearn.preprocessing import LabelEncoder\n",
        "le=LabelEncoder()\n",
        "le.fit_transform(['self_employed','salaried','student','retired','company'])"
      ],
      "execution_count": 40,
      "outputs": [
        {
          "output_type": "execute_result",
          "data": {
            "text/plain": [
              "array([3, 2, 4, 1, 0])"
            ]
          },
          "metadata": {
            "tags": []
          },
          "execution_count": 40
        }
      ]
    },
    {
      "cell_type": "markdown",
      "metadata": {
        "id": "0lBb7Uc4NrsH",
        "colab_type": "text"
      },
      "source": [
        "labelencoder chhoses alphabetical order"
      ]
    },
    {
      "cell_type": "code",
      "metadata": {
        "id": "q1jHw0BxNxgU",
        "colab_type": "code",
        "colab": {}
      },
      "source": [
        "dataset['occupation']=dataset['occupation'].map({'self_employed':1,\n",
        "                                                 'salaried':2,\n",
        "                                                 'student':0,\n",
        "                                                 'retired':4,\n",
        "                                                 'company':3})"
      ],
      "execution_count": 0,
      "outputs": []
    },
    {
      "cell_type": "markdown",
      "metadata": {
        "id": "rLb3yUpnOfPX",
        "colab_type": "text"
      },
      "source": [
        "**WE ARE DONE WITH DATAS**"
      ]
    },
    {
      "cell_type": "code",
      "metadata": {
        "id": "1YgMYgE9OtC0",
        "colab_type": "code",
        "colab": {}
      },
      "source": [
        "x=dataset.iloc[:,1:-1].values\n",
        "x"
      ],
      "execution_count": 0,
      "outputs": []
    },
    {
      "cell_type": "code",
      "metadata": {
        "id": "lFWAMnYnPJjX",
        "colab_type": "code",
        "colab": {}
      },
      "source": [
        "from sklearn.model_selection import train_test_split\n",
        "x_train, x_test, y_train, y_test = train_test_split(x, y, test_size=0.2, random_state=101)"
      ],
      "execution_count": 0,
      "outputs": []
    },
    {
      "cell_type": "markdown",
      "metadata": {
        "id": "Lbh1O9EgBJ51",
        "colab_type": "text"
      },
      "source": [
        "**logistic regression**"
      ]
    },
    {
      "cell_type": "code",
      "metadata": {
        "id": "ykvOAcepPSUF",
        "colab_type": "code",
        "colab": {}
      },
      "source": [
        "from sklearn.linear_model import LogisticRegression\n",
        "model = LogisticRegression()\n",
        "result = model.fit(x_train, y_train)"
      ],
      "execution_count": 0,
      "outputs": []
    },
    {
      "cell_type": "code",
      "metadata": {
        "id": "urMcMPP8PedF",
        "colab_type": "code",
        "outputId": "a8dcc871-b08a-4448-f187-8762b5100ced",
        "colab": {
          "base_uri": "https://localhost:8080/",
          "height": 34
        }
      },
      "source": [
        "from sklearn import metrics\n",
        "prediction_test1 = model.predict(x_test)\n",
        "# Print the prediction accuracy\n",
        "print (metrics.accuracy_score(y_test, prediction_test1))"
      ],
      "execution_count": 53,
      "outputs": [
        {
          "output_type": "stream",
          "text": [
            "0.8226175797075921\n"
          ],
          "name": "stdout"
        }
      ]
    },
    {
      "cell_type": "markdown",
      "metadata": {
        "id": "0eQrGlY6Biid",
        "colab_type": "text"
      },
      "source": [
        "**random forest**"
      ]
    },
    {
      "cell_type": "code",
      "metadata": {
        "id": "5JXF8FYnBHvj",
        "colab_type": "code",
        "colab": {}
      },
      "source": [
        "from sklearn.ensemble import RandomForestClassifier\n",
        "clf=RandomForestClassifier()\n",
        "clf.fit(x_train,y_train)"
      ],
      "execution_count": 0,
      "outputs": []
    },
    {
      "cell_type": "code",
      "metadata": {
        "id": "YIvJcGouCI0W",
        "colab_type": "code",
        "colab": {
          "base_uri": "https://localhost:8080/",
          "height": 34
        },
        "outputId": "94651d76-0845-401e-bc8a-55ddee98620b"
      },
      "source": [
        "from sklearn import metrics\n",
        "prediction_test2 = clf.predict(x_test)\n",
        "# Print the prediction accuracy\n",
        "print (metrics.accuracy_score(y_test, prediction_test2))"
      ],
      "execution_count": 55,
      "outputs": [
        {
          "output_type": "stream",
          "text": [
            "0.8650695790029945\n"
          ],
          "name": "stdout"
        }
      ]
    },
    {
      "cell_type": "markdown",
      "metadata": {
        "id": "qaYMBjCOHa6S",
        "colab_type": "text"
      },
      "source": [
        "**Naive bayes**"
      ]
    },
    {
      "cell_type": "code",
      "metadata": {
        "id": "28qRB3jZHgWP",
        "colab_type": "code",
        "colab": {
          "base_uri": "https://localhost:8080/",
          "height": 34
        },
        "outputId": "84bad4b7-ab21-4377-adf8-5db348748e59"
      },
      "source": [
        "from sklearn.naive_bayes import GaussianNB\n",
        "classifier=GaussianNB()\n",
        "classifier.fit(x_train,y_train)"
      ],
      "execution_count": 60,
      "outputs": [
        {
          "output_type": "execute_result",
          "data": {
            "text/plain": [
              "GaussianNB(priors=None, var_smoothing=1e-09)"
            ]
          },
          "metadata": {
            "tags": []
          },
          "execution_count": 60
        }
      ]
    },
    {
      "cell_type": "code",
      "metadata": {
        "id": "z5QPlvHpH-Sf",
        "colab_type": "code",
        "colab": {
          "base_uri": "https://localhost:8080/",
          "height": 34
        },
        "outputId": "803acaaf-93aa-4693-a972-6e04a4448fe6"
      },
      "source": [
        "from sklearn import metrics\n",
        "prediction_test3 = classifier.predict(x_test)\n",
        "# Print the prediction accuracy\n",
        "print (metrics.accuracy_score(y_test, prediction_test3))"
      ],
      "execution_count": 61,
      "outputs": [
        {
          "output_type": "stream",
          "text": [
            "0.8104632728553813\n"
          ],
          "name": "stdout"
        }
      ]
    },
    {
      "cell_type": "markdown",
      "metadata": {
        "id": "R89ZPedyC-Hq",
        "colab_type": "text"
      },
      "source": [
        "**ensembling these two**"
      ]
    },
    {
      "cell_type": "code",
      "metadata": {
        "id": "Ovj5e2QhDMuv",
        "colab_type": "code",
        "colab": {}
      },
      "source": [
        "from statistics import mode\n",
        "final_pred=np.array([])\n",
        "for i in range(0,len(x_test)):\n",
        "  final_pred=np.append(final_pred,mode([prediction_test1[i],prediction_test2[i],prediction_test3[i]]))"
      ],
      "execution_count": 0,
      "outputs": []
    },
    {
      "cell_type": "markdown",
      "metadata": {
        "id": "tzaK8N76IoNv",
        "colab_type": "text"
      },
      "source": [
        "**final accuracy**"
      ]
    },
    {
      "cell_type": "code",
      "metadata": {
        "id": "jLrkTZVWInOj",
        "colab_type": "code",
        "colab": {
          "base_uri": "https://localhost:8080/",
          "height": 34
        },
        "outputId": "0090a2f7-51f8-46bd-f971-5a24e9b042cf"
      },
      "source": [
        "from sklearn import metrics\n",
        "# Print the prediction accuracy\n",
        "print (metrics.accuracy_score(y_test,final_pred))"
      ],
      "execution_count": 64,
      "outputs": [
        {
          "output_type": "stream",
          "text": [
            "0.8227937290822618\n"
          ],
          "name": "stdout"
        }
      ]
    }
  ]
}